{
 "cells": [
  {
   "cell_type": "code",
   "execution_count": 5,
   "metadata": {},
   "outputs": [
    {
     "data": {
      "text/plain": [
       "([79, 92, 68, 75, 65], [78, 95, 68, 72, 65], [72, 91, 69, 71, 62])"
      ]
     },
     "execution_count": 5,
     "metadata": {},
     "output_type": "execute_result"
    }
   ],
   "source": [
    "#2維陣列list\n",
    "students = [[79, 92, 68, 75, 65],\n",
    "            [78, 95, 68, 72, 65],\n",
    "            [72, 91, 69, 71, 62]]\n",
    "students[0] , students[1] , students[2]"
   ]
  },
  {
   "cell_type": "code",
   "execution_count": 2,
   "metadata": {},
   "outputs": [
    {
     "name": "stdout",
     "output_type": "stream",
     "text": [
      "[79, 92, 68, 75, 65]\n",
      "[78, 95, 68, 72, 65]\n",
      "[72, 91, 69, 71, 62]\n"
     ]
    }
   ],
   "source": [
    "for student in students:\n",
    "    print(student)"
   ]
  },
  {
   "cell_type": "code",
   "execution_count": 9,
   "metadata": {},
   "outputs": [
    {
     "data": {
      "text/plain": [
       "[[57, 75, 83, 52, 52],\n",
       " [51, 74, 56, 97, 73],\n",
       " [83, 59, 72, 82, 50],\n",
       " [90, 92, 51, 77, 52],\n",
       " [51, 98, 60, 98, 61],\n",
       " [69, 65, 70, 78, 62],\n",
       " [82, 68, 75, 50, 87],\n",
       " [72, 71, 50, 92, 90],\n",
       " [77, 64, 84, 60, 84],\n",
       " [96, 98, 93, 78, 84],\n",
       " [54, 61, 57, 70, 85],\n",
       " [95, 57, 96, 73, 60],\n",
       " [69, 65, 83, 60, 72],\n",
       " [54, 98, 72, 90, 74],\n",
       " [88, 85, 98, 67, 50],\n",
       " [73, 67, 89, 58, 96],\n",
       " [91, 59, 77, 80, 88],\n",
       " [91, 95, 57, 98, 56],\n",
       " [96, 58, 79, 83, 72],\n",
       " [53, 64, 89, 91, 60],\n",
       " [82, 78, 71, 69, 77],\n",
       " [80, 71, 72, 54, 73],\n",
       " [66, 85, 67, 59, 90],\n",
       " [66, 95, 67, 92, 80],\n",
       " [93, 66, 80, 98, 79],\n",
       " [80, 59, 87, 60, 73],\n",
       " [82, 70, 83, 52, 61],\n",
       " [55, 73, 52, 71, 63],\n",
       " [60, 76, 97, 92, 92],\n",
       " [54, 82, 70, 76, 61],\n",
       " [90, 97, 53, 63, 90],\n",
       " [54, 71, 69, 69, 100],\n",
       " [88, 83, 82, 100, 90],\n",
       " [74, 70, 59, 54, 72],\n",
       " [59, 53, 70, 88, 53],\n",
       " [77, 73, 80, 88, 96],\n",
       " [93, 75, 94, 95, 74],\n",
       " [97, 98, 98, 85, 99],\n",
       " [85, 88, 95, 87, 72],\n",
       " [64, 76, 60, 97, 70],\n",
       " [61, 72, 76, 96, 93],\n",
       " [54, 78, 72, 91, 75],\n",
       " [52, 79, 70, 58, 52],\n",
       " [70, 89, 76, 53, 63],\n",
       " [69, 64, 97, 63, 56],\n",
       " [94, 55, 72, 75, 85],\n",
       " [52, 74, 91, 71, 66],\n",
       " [85, 63, 85, 75, 62],\n",
       " [67, 92, 94, 92, 55],\n",
       " [71, 51, 80, 54, 88]]"
      ]
     },
     "execution_count": 9,
     "metadata": {},
     "output_type": "execute_result"
    }
   ],
   "source": [
    "import random\n",
    "def get_score()->list:\n",
    "    score = []\n",
    "    for i in range(5):\n",
    "        score.append(random.randint(50,100))\n",
    "    return score\n",
    "\n",
    "students = []\n",
    "for i in range(50):\n",
    "    scores = get_score()\n",
    "    students.append(scores)\n",
    "students"
   ]
  }
 ],
 "metadata": {
  "kernelspec": {
   "display_name": "Python 3",
   "language": "python",
   "name": "python3"
  },
  "language_info": {
   "codemirror_mode": {
    "name": "ipython",
    "version": 3
   },
   "file_extension": ".py",
   "mimetype": "text/x-python",
   "name": "python",
   "nbconvert_exporter": "python",
   "pygments_lexer": "ipython3",
   "version": "3.10.12"
  },
  "orig_nbformat": 4
 },
 "nbformat": 4,
 "nbformat_minor": 2
}
