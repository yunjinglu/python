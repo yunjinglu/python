{
 "cells": [
  {
   "cell_type": "code",
   "execution_count": 4,
   "metadata": {},
   "outputs": [],
   "source": [
    "class Student:\n",
    "    def __init__(self,name:str,chinese:int,english:int,math:int):\n",
    "        #實體的attribute\n",
    "        self.name = name\n",
    "        self.chinese = chinese\n",
    "        self.english = english\n",
    "        self.math = math\n",
    "        \n",
    "    #實體方法method\n",
    "    def total(self) -> int:\n",
    "        return self.chinese + self.english + self.math\n",
    "    \n",
    "    #建立property->類似method,沒有參數,一定傳出一個值\n",
    "    @property\n",
    "    def average(self) -> float:\n",
    "        return self.total() / 3.0\n",
    "    \n",
    "    def __repr__(self) -> str:\n",
    "        return f'我是student實體,我的name:{self.name}'"
   ]
  },
  {
   "cell_type": "code",
   "execution_count": 9,
   "metadata": {},
   "outputs": [
    {
     "data": {
      "text/plain": [
       "('lily', 90, 98, 89)"
      ]
     },
     "metadata": {},
     "output_type": "display_data"
    },
    {
     "data": {
      "text/plain": [
       "(277, 92.33333333333333)"
      ]
     },
     "metadata": {},
     "output_type": "display_data"
    },
    {
     "name": "stdout",
     "output_type": "stream",
     "text": [
      "我是student實體,我的name:lily\n"
     ]
    }
   ],
   "source": [
    "stu1  = Student('lily',90,98,89)\n",
    "display((stu1.name, stu1.chinese, stu1.english, stu1.math))\n",
    "display((stu1.total(),stu1.average))\n",
    "print(stu1)"
   ]
  },
  {
   "cell_type": "code",
   "execution_count": 8,
   "metadata": {},
   "outputs": [
    {
     "data": {
      "text/plain": [
       "('lilian', 93, 94, 79)"
      ]
     },
     "metadata": {},
     "output_type": "display_data"
    },
    {
     "data": {
      "text/plain": [
       "(266, 88.66666666666667)"
      ]
     },
     "metadata": {},
     "output_type": "display_data"
    },
    {
     "name": "stdout",
     "output_type": "stream",
     "text": [
      "我是student實體,我的name:lily\n"
     ]
    }
   ],
   "source": [
    "stu2  = Student(name='lilian',chinese=93,english=94,math=79)\n",
    "display((stu2.name, stu2.chinese, stu2.english, stu2.math))\n",
    "display((stu2.total(),stu2.average))\n",
    "print(stu1)"
   ]
  },
  {
   "cell_type": "code",
   "execution_count": 17,
   "metadata": {},
   "outputs": [
    {
     "data": {
      "text/plain": [
       "('林xx', 71, 98, 92)"
      ]
     },
     "execution_count": 17,
     "metadata": {},
     "output_type": "execute_result"
    }
   ],
   "source": [
    "stu3 = Student(\"林xx\",english=98, math=92, chinese=71)\n",
    "stu3.name, stu3.chinese, stu3.english, stu3.math"
   ]
  }
 ],
 "metadata": {
  "kernelspec": {
   "display_name": "Python 3",
   "language": "python",
   "name": "python3"
  },
  "language_info": {
   "codemirror_mode": {
    "name": "ipython",
    "version": 3
   },
   "file_extension": ".py",
   "mimetype": "text/x-python",
   "name": "python",
   "nbconvert_exporter": "python",
   "pygments_lexer": "ipython3",
   "version": "3.10.12"
  },
  "orig_nbformat": 4
 },
 "nbformat": 4,
 "nbformat_minor": 2
}
