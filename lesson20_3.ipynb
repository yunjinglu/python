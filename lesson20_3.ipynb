{
 "cells": [
  {
   "cell_type": "code",
   "execution_count": null,
   "metadata": {},
   "outputs": [],
   "source": [
    "import yfinance as yf\n",
    "data = yf.download(\"2330.TW\", start=\"2022-01-01\",end=\"2022-12-31\")\n",
    "tw2330 = data[['Adj Close']]\n",
    "tw2330.columns = ['台積電']\n",
    "tw2330"
   ]
  },
  {
   "cell_type": "code",
   "execution_count": null,
   "metadata": {},
   "outputs": [],
   "source": [
    "data = yf.download(\"2303.TW\", start=\"2022-01-01\",end=\"2022-12-31\")\n",
    "tw2303 = data[['Adj Close']]\n",
    "tw2303.columns = ['聯電']\n",
    "tw2303"
   ]
  },
  {
   "cell_type": "code",
   "execution_count": null,
   "metadata": {},
   "outputs": [],
   "source": [
    "data = yf.download(\"2454.TW\", start=\"2022-01-01\",end=\"2022-12-31\")\n",
    "tw2454 = data[['Adj Close']]\n",
    "tw2454.columns = ['聯發科']\n",
    "tw2454"
   ]
  },
  {
   "cell_type": "code",
   "execution_count": null,
   "metadata": {},
   "outputs": [],
   "source": [
    "data = yf.download(\"2317.TW\", start=\"2022-01-01\",end=\"2022-12-31\")\n",
    "tw2317 = data[['Adj Close']]\n",
    "tw2317.columns = ['鴻海']\n",
    "tw2317"
   ]
  },
  {
   "cell_type": "code",
   "execution_count": null,
   "metadata": {},
   "outputs": [],
   "source": [
    "import pandas as pd\n",
    "frame = pd.concat([tw2330,tw2303,tw2454,tw2317],axis=1)\n",
    "frame"
   ]
  },
  {
   "cell_type": "code",
   "execution_count": null,
   "metadata": {},
   "outputs": [],
   "source": [
    "frame1 = frame.pct_change()\n",
    "frame2=frame1.fillna(0)\n",
    "frame2"
   ]
  },
  {
   "cell_type": "code",
   "execution_count": null,
   "metadata": {},
   "outputs": [],
   "source": [
    "#相關係數\n",
    "frame2.corr()"
   ]
  },
  {
   "cell_type": "code",
   "execution_count": null,
   "metadata": {},
   "outputs": [],
   "source": [
    "def fun1(s):\n",
    "    max = s.max() * 100\n",
    "    min = s.min() * 100\n",
    "    return pd.Series([f'{max:.2f}%',f'{min:.2f}%'],index=['最高','最低'])\n",
    "frame2.apply(fun1)"
   ]
  }
 ],
 "metadata": {
  "language_info": {
   "name": "python"
  }
 },
 "nbformat": 4,
 "nbformat_minor": 2
}
