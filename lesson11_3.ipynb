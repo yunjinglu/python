{
 "cells": [
  {
   "cell_type": "code",
   "execution_count": 3,
   "metadata": {},
   "outputs": [],
   "source": [
    "import random\n",
    "def get_score()->list:\n",
    "    score = []\n",
    "    for i in range(5):\n",
    "        score.append(random.randint(50,100))\n",
    "    return score\n",
    "\n",
    "def get_names(nums:int)->list:\n",
    "    with open('names.txt',encoding='utf-8',newline='') as file:\n",
    "        names_str = file.read()\n",
    "        all_names_list = names_str.split(sep='\\n')\n",
    "        names_list = random.choices(all_names_list,k=nums) #取出一定數量的姓名\n",
    "    return names_list"
   ]
  },
  {
   "cell_type": "code",
   "execution_count": 10,
   "metadata": {},
   "outputs": [
    {
     "data": {
      "text/plain": [
       "[['劉旭士', 78, 60, 52, 52, 76],\n",
       " ['黃旻林', 78, 96, 74, 95, 77],\n",
       " ['簡美君', 100, 66, 69, 80, 85],\n",
       " ['林珈發', 100, 86, 78, 54, 66],\n",
       " ['陳冠霞', 71, 90, 98, 90, 51],\n",
       " ['林珍旺', 99, 53, 71, 70, 66],\n",
       " ['謝水儒', 90, 92, 51, 86, 85],\n",
       " ['方雅慧', 59, 77, 98, 99, 72],\n",
       " ['傅佳琳', 94, 92, 96, 62, 72],\n",
       " ['蔡明平', 58, 59, 84, 75, 62],\n",
       " ['蘇凡菁', 99, 77, 88, 83, 98],\n",
       " ['楊韻如', 54, 66, 71, 69, 66],\n",
       " ['吳孟穎', 62, 98, 98, 81, 70],\n",
       " ['王人仰', 98, 99, 82, 95, 98],\n",
       " ['楊綺芬', 79, 70, 73, 74, 65],\n",
       " ['林佳光', 88, 74, 72, 89, 74],\n",
       " ['劉嘉泰', 73, 78, 83, 67, 60],\n",
       " ['陳怡伶', 52, 91, 78, 99, 65],\n",
       " ['李政白', 82, 90, 81, 96, 60],\n",
       " ['周琬婷', 69, 58, 89, 86, 72],\n",
       " ['李淑芳', 82, 83, 80, 62, 67],\n",
       " ['張天亨', 85, 72, 94, 93, 74],\n",
       " ['游倫城', 78, 90, 87, 89, 70],\n",
       " ['郭坤花', 93, 82, 62, 82, 92],\n",
       " ['馮芳如', 91, 85, 55, 52, 53],\n",
       " ['楊偉翔', 73, 63, 92, 63, 60],\n",
       " ['詹忠光', 72, 63, 59, 91, 82],\n",
       " ['黃旻林', 80, 56, 91, 76, 71],\n",
       " ['林康亮', 71, 66, 74, 58, 72],\n",
       " ['林昱芳', 90, 76, 97, 90, 55],\n",
       " ['林昱芳', 99, 80, 85, 85, 99],\n",
       " ['吳志宣', 96, 90, 85, 50, 55],\n",
       " ['李進慧', 94, 65, 78, 52, 77],\n",
       " ['陳凱翔', 51, 96, 79, 99, 87],\n",
       " ['黃麗美', 99, 80, 91, 97, 57],\n",
       " ['陳逸凡', 74, 87, 89, 76, 79],\n",
       " ['陳怡伶', 56, 85, 58, 87, 76],\n",
       " ['許淑婷', 73, 50, 98, 63, 76],\n",
       " ['劉依婷', 85, 65, 58, 91, 59],\n",
       " ['崔孝憲', 93, 88, 99, 63, 81],\n",
       " ['黃麗美', 63, 55, 93, 84, 83],\n",
       " ['鄧亭聿', 65, 72, 95, 67, 52],\n",
       " ['賴苑禾', 82, 78, 68, 72, 69],\n",
       " ['孫火清', 62, 94, 77, 71, 78],\n",
       " ['游一鈺', 51, 75, 72, 88, 65],\n",
       " ['潘俊賢', 71, 50, 88, 65, 67],\n",
       " ['黃奎紹', 61, 74, 86, 54, 61],\n",
       " ['黃佩玲', 64, 67, 89, 74, 74],\n",
       " ['唐翊修', 79, 57, 100, 60, 82],\n",
       " ['吳柏誠', 69, 58, 67, 51, 54]]"
      ]
     },
     "execution_count": 10,
     "metadata": {},
     "output_type": "execute_result"
    }
   ],
   "source": [
    "nums_int = int(input(\"請輸入學生數:\"))\n",
    "#取得nums_int個姓名\n",
    "names_list = get_names(nums_int)\n",
    "students = []\n",
    "for i in range(nums_int):\n",
    "    scores = get_score()\n",
    "    new_list = [names_list[i]] + scores\n",
    "    students.append(new_list)\n",
    "students"
   ]
  },
  {
   "cell_type": "code",
   "execution_count": 11,
   "metadata": {},
   "outputs": [
    {
     "name": "stdout",
     "output_type": "stream",
     "text": [
      "存檔成功\n"
     ]
    }
   ],
   "source": [
    "import csv\n",
    "#將2維list儲存為csv檔\n",
    "fileName = input(\"請輸入檔案名(csv):\")\n",
    "with open(f'{fileName}.csv',mode='w',encoding='utf-8',newline='') as file:\n",
    "    csv_writer = csv.writer(file)\n",
    "    csv_writer.writerow(['姓名','國文','英文','數學','地理','歷史'])\n",
    "    csv_writer.writerows(students)\n",
    "\n",
    "print(\"存檔成功\")"
   ]
  }
 ],
 "metadata": {
  "kernelspec": {
   "display_name": "Python 3",
   "language": "python",
   "name": "python3"
  },
  "language_info": {
   "codemirror_mode": {
    "name": "ipython",
    "version": 3
   },
   "file_extension": ".py",
   "mimetype": "text/x-python",
   "name": "python",
   "nbconvert_exporter": "python",
   "pygments_lexer": "ipython3",
   "version": "3.10.12"
  },
  "orig_nbformat": 4
 },
 "nbformat": 4,
 "nbformat_minor": 2
}
