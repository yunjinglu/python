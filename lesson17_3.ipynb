{
 "cells": [
  {
   "cell_type": "code",
   "execution_count": 5,
   "metadata": {},
   "outputs": [],
   "source": [
    "import pandas as pd\n",
    "df = pd.read_csv('學生成績.csv')\n",
    "#dataFrame的subscript\n",
    "name_s = df[\"姓名\"]"
   ]
  },
  {
   "cell_type": "code",
   "execution_count": 10,
   "metadata": {},
   "outputs": [
    {
     "data": {
      "text/plain": [
       "0    林珍旺\n",
       "1    郭致恬\n",
       "2    鄧亭聿\n",
       "3    彭茹靖\n",
       "4    張彥博\n",
       "Name: 姓名, dtype: object"
      ]
     },
     "metadata": {},
     "output_type": "display_data"
    },
    {
     "data": {
      "text/plain": [
       "'林珍旺'"
      ]
     },
     "metadata": {},
     "output_type": "display_data"
    },
    {
     "name": "stdout",
     "output_type": "stream",
     "text": [
      "===========\n"
     ]
    },
    {
     "data": {
      "text/plain": [
       "0    林珍旺\n",
       "1    郭致恬\n",
       "2    鄧亭聿\n",
       "Name: 姓名, dtype: object"
      ]
     },
     "metadata": {},
     "output_type": "display_data"
    },
    {
     "name": "stdout",
     "output_type": "stream",
     "text": [
      "===========\n"
     ]
    },
    {
     "data": {
      "text/plain": [
       "2    鄧亭聿\n",
       "3    彭茹靖\n",
       "4    張彥博\n",
       "Name: 姓名, dtype: object"
      ]
     },
     "metadata": {},
     "output_type": "display_data"
    },
    {
     "name": "stdout",
     "output_type": "stream",
     "text": [
      "===========\n"
     ]
    },
    {
     "data": {
      "text/plain": [
       "0    林珍旺\n",
       "2    鄧亭聿\n",
       "1    郭致恬\n",
       "Name: 姓名, dtype: object"
      ]
     },
     "metadata": {},
     "output_type": "display_data"
    }
   ],
   "source": [
    "#Series的subscript\n",
    "display(name_s)\n",
    "display(name_s[0])\n",
    "print(\"===========\")\n",
    "display(name_s[:3])\n",
    "print(\"===========\")\n",
    "display(name_s[-3:])\n",
    "print(\"===========\")\n",
    "display(name_s[[0, 2, 1]])"
   ]
  }
 ],
 "metadata": {
  "kernelspec": {
   "display_name": "Python 3",
   "language": "python",
   "name": "python3"
  },
  "language_info": {
   "codemirror_mode": {
    "name": "ipython",
    "version": 3
   },
   "file_extension": ".py",
   "mimetype": "text/x-python",
   "name": "python",
   "nbconvert_exporter": "python",
   "pygments_lexer": "ipython3",
   "version": "3.10.12"
  }
 },
 "nbformat": 4,
 "nbformat_minor": 2
}
