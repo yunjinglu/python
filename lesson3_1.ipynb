{
 "cells": [
  {
   "cell_type": "code",
   "execution_count": 11,
   "metadata": {},
   "outputs": [
    {
     "name": "stdout",
     "output_type": "stream",
     "text": [
      "梯形的面積: 1528.06 平方公分\n"
     ]
    }
   ],
   "source": [
    "#計算梯形面積\n",
    "top=float(input(\"請輸入梯形的上底(公分):\"))\n",
    "bottom=float(input(\"請輸入梯形的下底(公分):\"))\n",
    "height=float(input(\"請輸入梯形的高(公分):\"))\n",
    "\n",
    "area=(top + bottom) * height / 2 \n",
    "print(\"梯形的面積:\",round(area,ndigits=2),\"平方公分\")\n",
    "#round()代表將數值四捨五入至個位數\n",
    "#ndigits設定四捨五入至小數幾位\n",
    "#round(area,ndigits=2)代表將area四捨五入至小數第2位"
   ]
  }
 ],
 "metadata": {
  "kernelspec": {
   "display_name": "Python 3",
   "language": "python",
   "name": "python3"
  },
  "language_info": {
   "codemirror_mode": {
    "name": "ipython",
    "version": 3
   },
   "file_extension": ".py",
   "mimetype": "text/x-python",
   "name": "python",
   "nbconvert_exporter": "python",
   "pygments_lexer": "ipython3",
   "version": "3.10.12"
  },
  "orig_nbformat": 4
 },
 "nbformat": 4,
 "nbformat_minor": 2
}
