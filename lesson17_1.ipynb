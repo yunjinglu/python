{
 "cells": [
  {
   "cell_type": "code",
   "execution_count": 2,
   "metadata": {},
   "outputs": [
    {
     "data": {
      "text/html": [
       "<div>\n",
       "<style scoped>\n",
       "    .dataframe tbody tr th:only-of-type {\n",
       "        vertical-align: middle;\n",
       "    }\n",
       "\n",
       "    .dataframe tbody tr th {\n",
       "        vertical-align: top;\n",
       "    }\n",
       "\n",
       "    .dataframe thead th {\n",
       "        text-align: right;\n",
       "    }\n",
       "</style>\n",
       "<table border=\"1\" class=\"dataframe\">\n",
       "  <thead>\n",
       "    <tr style=\"text-align: right;\">\n",
       "      <th></th>\n",
       "      <th>字串</th>\n",
       "      <th>整數</th>\n",
       "      <th>浮點數</th>\n",
       "    </tr>\n",
       "  </thead>\n",
       "  <tbody>\n",
       "    <tr>\n",
       "      <th>0</th>\n",
       "      <td>台北</td>\n",
       "      <td>1000</td>\n",
       "      <td>3.258</td>\n",
       "    </tr>\n",
       "    <tr>\n",
       "      <th>1</th>\n",
       "      <td>台中</td>\n",
       "      <td>3000</td>\n",
       "      <td>7.396</td>\n",
       "    </tr>\n",
       "  </tbody>\n",
       "</table>\n",
       "</div>"
      ],
      "text/plain": [
       "   字串    整數    浮點數\n",
       "0  台北  1000  3.258\n",
       "1  台中  3000  7.396"
      ]
     },
     "metadata": {},
     "output_type": "display_data"
    }
   ],
   "source": [
    "import pandas as pd\n",
    "data = {\"字串\":[\"台北\", \"台中\"],\n",
    "        \"整數\":[1000, 3000],\n",
    "        \"浮點數\":[3.258, 7.396]}\n",
    "\n",
    "df = pd.DataFrame(data)\n",
    "display(df)"
   ]
  },
  {
   "cell_type": "code",
   "execution_count": 4,
   "metadata": {},
   "outputs": [
    {
     "data": {
      "text/html": [
       "<style type=\"text/css\">\n",
       "</style>\n",
       "<table id=\"T_d0911\">\n",
       "  <thead>\n",
       "    <tr>\n",
       "      <th class=\"blank level0\" >&nbsp;</th>\n",
       "      <th id=\"T_d0911_level0_col0\" class=\"col_heading level0 col0\" >字串</th>\n",
       "      <th id=\"T_d0911_level0_col1\" class=\"col_heading level0 col1\" >整數</th>\n",
       "      <th id=\"T_d0911_level0_col2\" class=\"col_heading level0 col2\" >浮點數</th>\n",
       "    </tr>\n",
       "  </thead>\n",
       "  <tbody>\n",
       "    <tr>\n",
       "      <th id=\"T_d0911_level0_row0\" class=\"row_heading level0 row0\" >列一</th>\n",
       "      <td id=\"T_d0911_row0_col0\" class=\"data row0 col0\" >台北</td>\n",
       "      <td id=\"T_d0911_row0_col1\" class=\"data row0 col1\" >1,000</td>\n",
       "      <td id=\"T_d0911_row0_col2\" class=\"data row0 col2\" >3.26</td>\n",
       "    </tr>\n",
       "    <tr>\n",
       "      <th id=\"T_d0911_level0_row1\" class=\"row_heading level0 row1\" >列二</th>\n",
       "      <td id=\"T_d0911_row1_col0\" class=\"data row1 col0\" >台中</td>\n",
       "      <td id=\"T_d0911_row1_col1\" class=\"data row1 col1\" >3,000</td>\n",
       "      <td id=\"T_d0911_row1_col2\" class=\"data row1 col2\" >7.40</td>\n",
       "    </tr>\n",
       "  </tbody>\n",
       "</table>\n"
      ],
      "text/plain": [
       "<pandas.io.formats.style.Styler at 0x7f6450c44340>"
      ]
     },
     "execution_count": 4,
     "metadata": {},
     "output_type": "execute_result"
    }
   ],
   "source": [
    "#視覺美化資料表\n",
    "#pip install jinja2\n",
    "df.style.format(precision=2,thousands=',',decimal='.').relabel_index(['列一','列二'])"
   ]
  },
  {
   "cell_type": "code",
   "execution_count": 5,
   "metadata": {},
   "outputs": [
    {
     "data": {
      "text/html": [
       "<style type=\"text/css\">\n",
       "</style>\n",
       "<table id=\"T_ceee7\">\n",
       "  <thead>\n",
       "    <tr>\n",
       "      <th class=\"blank level0\" >&nbsp;</th>\n",
       "      <th id=\"T_ceee7_level0_col0\" class=\"col_heading level0 col0\" >字串</th>\n",
       "      <th id=\"T_ceee7_level0_col1\" class=\"col_heading level0 col1\" >整數</th>\n",
       "      <th id=\"T_ceee7_level0_col2\" class=\"col_heading level0 col2\" >浮點數</th>\n",
       "    </tr>\n",
       "  </thead>\n",
       "  <tbody>\n",
       "    <tr>\n",
       "      <th id=\"T_ceee7_level0_row0\" class=\"row_heading level0 row0\" >列一</th>\n",
       "      <td id=\"T_ceee7_row0_col0\" class=\"data row0 col0\" >台北</td>\n",
       "      <td id=\"T_ceee7_row0_col1\" class=\"data row0 col1\" >1,000</td>\n",
       "      <td id=\"T_ceee7_row0_col2\" class=\"data row0 col2\" >3.26</td>\n",
       "    </tr>\n",
       "    <tr>\n",
       "      <th id=\"T_ceee7_level0_row1\" class=\"row_heading level0 row1\" >列二</th>\n",
       "      <td id=\"T_ceee7_row1_col0\" class=\"data row1 col0\" >台中</td>\n",
       "      <td id=\"T_ceee7_row1_col1\" class=\"data row1 col1\" >3,000</td>\n",
       "      <td id=\"T_ceee7_row1_col2\" class=\"data row1 col2\" >7.40</td>\n",
       "    </tr>\n",
       "  </tbody>\n",
       "</table>\n"
      ],
      "text/plain": [
       "<pandas.io.formats.style.Styler at 0x7f643381ad10>"
      ]
     },
     "execution_count": 5,
     "metadata": {},
     "output_type": "execute_result"
    }
   ],
   "source": [
    "#視覺美化資料表\n",
    "#pip install jinja2\n",
    "df.style.\\\n",
    "format(precision=2,thousands=',',decimal='.')\\\n",
    ".relabel_index(['列一','列二'])"
   ]
  },
  {
   "cell_type": "code",
   "execution_count": 6,
   "metadata": {},
   "outputs": [
    {
     "data": {
      "text/html": [
       "<div>\n",
       "<style scoped>\n",
       "    .dataframe tbody tr th:only-of-type {\n",
       "        vertical-align: middle;\n",
       "    }\n",
       "\n",
       "    .dataframe tbody tr th {\n",
       "        vertical-align: top;\n",
       "    }\n",
       "\n",
       "    .dataframe thead th {\n",
       "        text-align: right;\n",
       "    }\n",
       "</style>\n",
       "<table border=\"1\" class=\"dataframe\">\n",
       "  <thead>\n",
       "    <tr style=\"text-align: right;\">\n",
       "      <th></th>\n",
       "      <th>台北</th>\n",
       "      <th>台中</th>\n",
       "    </tr>\n",
       "  </thead>\n",
       "  <tbody>\n",
       "    <tr>\n",
       "      <th>2023-09-01</th>\n",
       "      <td>4.069707</td>\n",
       "      <td>0.020856</td>\n",
       "    </tr>\n",
       "    <tr>\n",
       "      <th>2023-09-02</th>\n",
       "      <td>1.897481</td>\n",
       "      <td>4.914396</td>\n",
       "    </tr>\n",
       "    <tr>\n",
       "      <th>2023-09-03</th>\n",
       "      <td>0.447637</td>\n",
       "      <td>1.461368</td>\n",
       "    </tr>\n",
       "    <tr>\n",
       "      <th>2023-09-04</th>\n",
       "      <td>4.109726</td>\n",
       "      <td>4.939042</td>\n",
       "    </tr>\n",
       "    <tr>\n",
       "      <th>2023-09-05</th>\n",
       "      <td>0.445477</td>\n",
       "      <td>3.657681</td>\n",
       "    </tr>\n",
       "    <tr>\n",
       "      <th>2023-09-06</th>\n",
       "      <td>2.056830</td>\n",
       "      <td>1.554042</td>\n",
       "    </tr>\n",
       "    <tr>\n",
       "      <th>2023-09-07</th>\n",
       "      <td>2.414114</td>\n",
       "      <td>1.646410</td>\n",
       "    </tr>\n",
       "    <tr>\n",
       "      <th>2023-09-08</th>\n",
       "      <td>2.015979</td>\n",
       "      <td>2.298504</td>\n",
       "    </tr>\n",
       "    <tr>\n",
       "      <th>2023-09-09</th>\n",
       "      <td>3.233426</td>\n",
       "      <td>4.163170</td>\n",
       "    </tr>\n",
       "    <tr>\n",
       "      <th>2023-09-10</th>\n",
       "      <td>2.662450</td>\n",
       "      <td>0.662385</td>\n",
       "    </tr>\n",
       "  </tbody>\n",
       "</table>\n",
       "</div>"
      ],
      "text/plain": [
       "                  台北        台中\n",
       "2023-09-01  4.069707  0.020856\n",
       "2023-09-02  1.897481  4.914396\n",
       "2023-09-03  0.447637  1.461368\n",
       "2023-09-04  4.109726  4.939042\n",
       "2023-09-05  0.445477  3.657681\n",
       "2023-09-06  2.056830  1.554042\n",
       "2023-09-07  2.414114  1.646410\n",
       "2023-09-08  2.015979  2.298504\n",
       "2023-09-09  3.233426  4.163170\n",
       "2023-09-10  2.662450  0.662385"
      ]
     },
     "execution_count": 6,
     "metadata": {},
     "output_type": "execute_result"
    }
   ],
   "source": [
    "import numpy as np\n",
    "data = np.random.rand(10,2) * 5\n",
    "df = pd.DataFrame(data,\n",
    "                  index = pd.date_range(start=\"2023-09-01\",periods=10),\n",
    "                  columns=[\"台北\",\"台中\"]\n",
    "                  )\n",
    "df"
   ]
  },
  {
   "cell_type": "code",
   "execution_count": null,
   "metadata": {},
   "outputs": [],
   "source": []
  }
 ],
 "metadata": {
  "kernelspec": {
   "display_name": "Python 3",
   "language": "python",
   "name": "python3"
  },
  "language_info": {
   "codemirror_mode": {
    "name": "ipython",
    "version": 3
   },
   "file_extension": ".py",
   "mimetype": "text/x-python",
   "name": "python",
   "nbconvert_exporter": "python",
   "pygments_lexer": "ipython3",
   "version": "3.10.12"
  }
 },
 "nbformat": 4,
 "nbformat_minor": 2
}
