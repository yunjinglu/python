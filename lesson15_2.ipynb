{
 "cells": [
  {
   "cell_type": "code",
   "execution_count": 4,
   "metadata": {},
   "outputs": [
    {
     "name": "stdout",
     "output_type": "stream",
     "text": [
      "[2, 6, 10, 14, 18]\n",
      "[3, 7, 11, 15, 19]\n"
     ]
    }
   ],
   "source": [
    "#建立list\n",
    "a = [1,3,5,7,9]\n",
    "b = [2,4,6,8,10]\n",
    "result1 = []\n",
    "result2 = []\n",
    "for i in range(5):\n",
    "    result1.append(a[i]*2)\n",
    "    result2.append(a[i]+b[i])\n",
    "print(result1)\n",
    "print(result2)"
   ]
  },
  {
   "cell_type": "code",
   "execution_count": 4,
   "metadata": {},
   "outputs": [
    {
     "data": {
      "text/plain": [
       "array([ 3,  7, 11, 15, 19])"
      ]
     },
     "execution_count": 4,
     "metadata": {},
     "output_type": "execute_result"
    }
   ],
   "source": [
    "import numpy as np\n",
    "\n",
    "#透過list建立ndArray\n",
    "\n",
    "a_array = np.array([1,3,5,7,9])\n",
    "a_array*2\n",
    "\n",
    "b_array = np.array([2,4,6,8,10])\n",
    "\n",
    "a_array + b_array"
   ]
  },
  {
   "cell_type": "code",
   "execution_count": 3,
   "metadata": {},
   "outputs": [
    {
     "data": {
      "text/plain": [
       "[97, 80, 67, 57, 85]"
      ]
     },
     "execution_count": 3,
     "metadata": {},
     "output_type": "execute_result"
    }
   ],
   "source": [
    "#使用python建立5個亂數元素的list\n",
    "import random\n",
    "\n",
    "#list comprehension\n",
    "[random.randint(50,100) for _ in range(5)]"
   ]
  },
  {
   "cell_type": "code",
   "execution_count": 7,
   "metadata": {},
   "outputs": [
    {
     "data": {
      "text/plain": [
       "array([62, 97, 59, 99, 82])"
      ]
     },
     "execution_count": 7,
     "metadata": {},
     "output_type": "execute_result"
    }
   ],
   "source": [
    "#使用numpy建立亂數\n",
    "import numpy as np\n",
    "np.random.randint(50,high=100,size=5)"
   ]
  },
  {
   "cell_type": "code",
   "execution_count": 6,
   "metadata": {},
   "outputs": [
    {
     "data": {
      "text/plain": [
       "array([[57, 53, 69, 94, 67],\n",
       "       [62, 87, 70, 51, 78],\n",
       "       [50, 87, 78, 72, 56],\n",
       "       [50, 56, 77, 54, 85],\n",
       "       [72, 62, 52, 68, 90],\n",
       "       [77, 50, 61, 72, 70],\n",
       "       [56, 90, 63, 66, 55],\n",
       "       [78, 92, 60, 75, 55],\n",
       "       [64, 96, 59, 91, 69],\n",
       "       [67, 65, 83, 94, 63],\n",
       "       [63, 57, 93, 89, 70],\n",
       "       [64, 93, 85, 56, 79],\n",
       "       [99, 89, 73, 88, 79],\n",
       "       [73, 66, 61, 64, 82],\n",
       "       [71, 51, 61, 88, 56],\n",
       "       [57, 87, 69, 88, 64],\n",
       "       [56, 53, 91, 58, 66],\n",
       "       [75, 84, 60, 66, 84],\n",
       "       [93, 77, 54, 79, 65],\n",
       "       [70, 91, 62, 85, 73],\n",
       "       [54, 93, 71, 59, 62],\n",
       "       [65, 84, 59, 64, 54],\n",
       "       [78, 50, 93, 59, 51],\n",
       "       [77, 95, 86, 95, 74],\n",
       "       [63, 74, 70, 73, 83],\n",
       "       [83, 82, 69, 69, 60],\n",
       "       [67, 97, 82, 60, 69],\n",
       "       [72, 98, 77, 61, 67],\n",
       "       [86, 65, 56, 78, 69],\n",
       "       [72, 81, 73, 85, 68],\n",
       "       [65, 88, 91, 63, 92],\n",
       "       [55, 72, 96, 61, 68],\n",
       "       [68, 97, 88, 83, 58],\n",
       "       [56, 60, 80, 60, 91],\n",
       "       [82, 80, 64, 63, 68],\n",
       "       [62, 93, 77, 69, 59],\n",
       "       [61, 72, 71, 52, 79],\n",
       "       [80, 81, 57, 56, 55],\n",
       "       [95, 94, 75, 77, 71],\n",
       "       [53, 70, 89, 92, 98],\n",
       "       [52, 89, 66, 55, 65],\n",
       "       [78, 97, 87, 97, 92],\n",
       "       [87, 53, 97, 50, 93],\n",
       "       [51, 57, 76, 77, 62],\n",
       "       [88, 62, 50, 71, 68],\n",
       "       [71, 85, 55, 58, 73],\n",
       "       [91, 65, 62, 99, 83],\n",
       "       [91, 78, 85, 57, 68],\n",
       "       [84, 60, 83, 69, 83],\n",
       "       [78, 50, 80, 92, 73]])"
      ]
     },
     "execution_count": 6,
     "metadata": {},
     "output_type": "execute_result"
    }
   ],
   "source": [
    "np.random.randint(50,high=100,size=(50,5))"
   ]
  }
 ],
 "metadata": {
  "kernelspec": {
   "display_name": "Python 3",
   "language": "python",
   "name": "python3"
  },
  "language_info": {
   "codemirror_mode": {
    "name": "ipython",
    "version": 3
   },
   "file_extension": ".py",
   "mimetype": "text/x-python",
   "name": "python",
   "nbconvert_exporter": "python",
   "pygments_lexer": "ipython3",
   "version": "3.10.12"
  },
  "orig_nbformat": 4
 },
 "nbformat": 4,
 "nbformat_minor": 2
}
